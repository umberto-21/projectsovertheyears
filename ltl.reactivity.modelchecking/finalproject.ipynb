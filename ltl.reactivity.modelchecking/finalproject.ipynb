{
 "metadata": {
  "language_info": {
   "codemirror_mode": {
    "name": "ipython",
    "version": 3
   },
   "file_extension": ".py",
   "mimetype": "text/x-python",
   "name": "python",
   "nbconvert_exporter": "python",
   "pygments_lexer": "ipython3",
   "version": "3.6.9"
  },
  "orig_nbformat": 2,
  "kernelspec": {
   "name": "python2717jvsc74a57bd0767d51c1340bd893661ea55ea3124f6de3c7a262a8b4abca0554b478b1e2ff90",
   "display_name": "Python 3.6.9 64-bit"
  },
  "metadata": {
   "interpreter": {
    "hash": "31f2aee4e71d21fbe5cf8b01ff0e069b9275f58929596ceb00d14d90e3e16cd6"
   }
  }
 },
 "nbformat": 4,
 "nbformat_minor": 2,
 "cells": [
  {
   "source": [
    "## FORMAL METHODS FOR CYBER-PHYSICAL SYSTEMS\n",
    "### Final Project\n",
    "#### Umberto Andria Mtr. 1166612\n",
    "\n",
    "The target of the project was to implement an algorithm to perform the model checking of a specific class of LTL formula: the reactivity class. The reactivity class has the following form:\n",
    "\n",
    "$\\Box\\Diamond f \\to \\Box\\Diamond g$\n",
    "\n",
    "Where f and g are boolean combination of base formula without temporal operators.\n",
    "\n",
    "In order to check if all the executions of the loaded model satisfy or not the LTL formula, the first step is to negate the formula. The negation of a reactivity formula is:\n",
    "\n",
    "$\\Box\\Diamond f \\to \\Diamond\\Box \\neg g$\n",
    "\n",
    "The second step is to check if there is an execution in the model that satisfies the negated formula.\n",
    "\n",
    "The function that performs this kind of check is the following:"
   ],
   "cell_type": "markdown",
   "metadata": {}
  },
  {
   "cell_type": "code",
   "execution_count": 4,
   "metadata": {},
   "outputs": [],
   "source": [
    "def my_check_react_spec(spec):\n",
    "    \"Pre-defined function to parse a reactivity formula\"\n",
    "    spec_parsed = parse_react(spec)\n",
    "    \"Check if `spec` is a reactivity formula\"\n",
    "    if spec_parsed == None:\n",
    "        \"return None if not. The algorithm stops here\"\n",
    "        return None\n",
    "    \"Otherwise get the model as bddFsm\"\n",
    "    fsm = get_model_encoded_with_bdd()\n",
    "    \"convert the specifications f and g into bdd data structure\"\n",
    "    spec_f = spec_to_bdd(fsm, spec_parsed[0])\n",
    "    spec_g = spec_to_bdd(fsm, spec_parsed[1])\n",
    "    \"and call the model checking function\"\n",
    "    execution = reactivity_spec(fsm, spec_f, spec_g)\n",
    "    \"If the first element of the tuple `execution` is False\"\n",
    "    if execution[0] == False:\n",
    "        \"build the counterexample\"\n",
    "        witness = build_witness(fsm, execution[1])\n",
    "        return False, witness\n",
    "    return True, None"
   ]
  },
  {
   "source": [
    "The core of this procedure is the call to the function `reactivity_spec(fsm, spec_f, spec_g)`. This auxiliary function performs a symbolic nested search algorithm for checking the repeatability of `spec_f` and the persistence of `spec_g` negated. The code is the following:\n"
   ],
   "cell_type": "markdown",
   "metadata": {}
  },
  {
   "cell_type": "code",
   "execution_count": null,
   "metadata": {},
   "outputs": [],
   "source": [
    "def reactivity_spec(fsm, spec_f, spec_g):\n",
    "    reach = fsm.init\n",
    "    new = reach\n",
    "    trans = fsm.trans\n",
    "    \"Loop to perform the reachability states calculation\"\n",
    "    while fsm.count_states(new) != 0:\n",
    "        post_region = trans.post(new)\n",
    "        new = post_region - reach\n",
    "        reach = reach | new\n",
    "    \"Region of all reacheable states that satisfy `spec_f`\"\n",
    "    recur = reach & spec_f\n",
    "    \"Region that represent the transition relations\"\n",
    "    trans = fsm.trans\n",
    "    \"The point is to find a cycling execution that satisfy `spec_f` and not satisfy `spec_g`\"\n",
    "    while fsm.count_states(recur) != 0:\n",
    "        reach = pynusmv.dd.BDD.true() - pynusmv.dd.BDD.true()\n",
    "        new = trans.pre(recur) & (~spec_g) \n",
    "        while fsm.count_states(new) != 0:\n",
    "            reach = reach | new\n",
    "            if recur.entailed(reach):\n",
    "                witness = build_witness(fsm, reach)\n",
    "                return False, reach\n",
    "            pre = trans.pre(new) & (~spec_g)\n",
    "            new = pre - reach\n",
    "        recur = recur & reach\n",
    "    return True, None"
   ]
  },
  {
   "source": [
    "With the first loop, the function calculates the region that contains those states that are reacheable from the initial states. With the last two nested loops the function tries to find a cycling execution that satisfy the negated LTL formula. The important bit is that in the pre-image calculation the region is intersected with the negation of the `spec_g` formula. In this way the algorithm is sure that the states in the pre-image region always satisfy the negated `spec_g`. So, if a cycling execution is found, we can be sure that: not only `spec_f` is always eventually satisfied but also that not `spec_g` is eventually always satisfied.\n",
    "\n",
    "The function returns False and the region `reach`, which contains the cycling execution, or True and None if the execution is not found, meaning that the model satisfy in every execution the LTL formula.\n",
    "\n",
    "If a cycling execution is found `my_check_react_spec(spec)` calls another function `build_witness(fsm, reach)`. This one create the execution as a tuple of alternating states and inputs using the `reach` region.\n"
   ],
   "cell_type": "markdown",
   "metadata": {}
  },
  {
   "cell_type": "code",
   "execution_count": null,
   "metadata": {},
   "outputs": [],
   "source": [
    "def build_witness(fsm, reach):\n",
    "    states = []\n",
    "    while fsm.count_states(reach):\n",
    "        state = fsm.pick_one_state(reach)\n",
    "        states.append(state)\n",
    "        reach = reach - state\n",
    "    last_state = states[len(states) -1]\n",
    "    states.reverse()\n",
    "    states.append(last_state)\n",
    "    witness = ()\n",
    "    for i in range(0, len(states) -1):\n",
    "        inputs = fsm.get_inputs_between_states(states[i], states[i+1])\n",
    "        if inputs != pynusmv.dd.BDD.false():\n",
    "            input = fsm.pick_one_input(inputs)\n",
    "            witness += (states[i].get_str_values(),) + (input.get_str_values(),)\n",
    "        else:\n",
    "            witness += (states[i].get_str_values(),) + ({},)\n",
    "    witness += (states[len(states) -1].get_str_values(),)\n",
    "    return witness"
   ]
  },
  {
   "source": [
    "The key point here is that we reverse the list of states because when searching for the cycling execution we have used the pre-image calculation, exploring the states backwards respect the normal execution flow."
   ],
   "cell_type": "markdown",
   "metadata": {}
  }
 ]
}